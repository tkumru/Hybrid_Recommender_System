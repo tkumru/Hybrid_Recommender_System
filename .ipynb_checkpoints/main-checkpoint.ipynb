{
 "cells": [
  {
   "cell_type": "markdown",
   "id": "96312f9f",
   "metadata": {},
   "source": [
    "# Hybrid Recommender System\n",
    "# Data Preparation"
   ]
  },
  {
   "cell_type": "code",
   "execution_count": 1,
   "id": "6de2b5e0",
   "metadata": {},
   "outputs": [],
   "source": [
    "import pandas as pd"
   ]
  },
  {
   "cell_type": "code",
   "execution_count": 2,
   "id": "b42bedbc",
   "metadata": {},
   "outputs": [],
   "source": [
    "movie = pd.read_csv(\"datasets/movie.csv\")\n",
    "rating = pd.read_csv(\"datasets/rating.csv\")"
   ]
  },
  {
   "cell_type": "markdown",
   "id": "0c63999e",
   "metadata": {},
   "source": [
    "Read datasets from csv files."
   ]
  },
  {
   "cell_type": "code",
   "execution_count": 3,
   "id": "eecebad1",
   "metadata": {},
   "outputs": [],
   "source": [
    "df = movie.merge(rating, how=\"left\", on=\"movieId\")"
   ]
  },
  {
   "cell_type": "code",
   "execution_count": 4,
   "id": "517d7d08",
   "metadata": {},
   "outputs": [],
   "source": [
    "df.to_parquet(\"datasets/dataset.parquet\")"
   ]
  },
  {
   "cell_type": "markdown",
   "id": "a4ebb6d4",
   "metadata": {},
   "source": [
    "Merged movie data to rating data on movieId. Saved file to parquet for continue with Apache Spark and compression. Finaly delete csv files."
   ]
  },
  {
   "cell_type": "code",
   "execution_count": 5,
   "id": "e46caa32",
   "metadata": {},
   "outputs": [],
   "source": [
    "from pyspark.sql import SparkSession, functions as F\n",
    "\n",
    "import findspark\n",
    "\n",
    "findspark.init(\"C:\\Program Files\\Spark\\spark-3.3.1-bin-hadoop3\")"
   ]
  },
  {
   "cell_type": "code",
   "execution_count": 6,
   "id": "a4ee707d",
   "metadata": {},
   "outputs": [],
   "source": [
    "spark = SparkSession.builder \\\n",
    "    .master(\"local[2]\") \\\n",
    "    .appName(\"Hybrid Recommender System\") \\\n",
    "    .config(\"spark.sql.adaptive.enabled\", True) \\\n",
    "    .getOrCreate()"
   ]
  },
  {
   "cell_type": "code",
   "execution_count": 12,
   "id": "34a95e89",
   "metadata": {},
   "outputs": [],
   "source": [
    "path = \"file:///Users/talha/OneDrive/Masaüstü/Talha Nebi Kumru/Data Science/Miuul/Recommendation Systems/Hybrid_Recommender_System/datasets/dataset.parquet\"\n",
    "\n",
    "df = spark.read \\\n",
    "    .format(\"parquet\") \\\n",
    "    .option(\"header\", True) \\\n",
    "    .option(\"inferSchema\", True) \\\n",
    "    .load(path)"
   ]
  },
  {
   "cell_type": "code",
   "execution_count": 13,
   "id": "b383fd2b",
   "metadata": {},
   "outputs": [
    {
     "name": "stdout",
     "output_type": "stream",
     "text": [
      "+-------+----------------+--------------------+------+------+-------------------+-----------------+\n",
      "|movieId|           title|              genres|userId|rating|          timestamp|__index_level_0__|\n",
      "+-------+----------------+--------------------+------+------+-------------------+-----------------+\n",
      "|      1|Toy Story (1995)|Adventure|Animati...|   3.0|   4.0|1999-12-11 13:36:47|                0|\n",
      "|      1|Toy Story (1995)|Adventure|Animati...|   6.0|   5.0|1997-03-13 17:50:52|                1|\n",
      "|      1|Toy Story (1995)|Adventure|Animati...|   8.0|   4.0|1996-06-05 13:37:51|                2|\n",
      "|      1|Toy Story (1995)|Adventure|Animati...|  10.0|   4.0|1999-11-25 02:44:47|                3|\n",
      "|      1|Toy Story (1995)|Adventure|Animati...|  11.0|   4.5|2009-01-02 01:13:41|                4|\n",
      "+-------+----------------+--------------------+------+------+-------------------+-----------------+\n",
      "only showing top 5 rows\n",
      "\n"
     ]
    }
   ],
   "source": [
    "df.show(5)"
   ]
  },
  {
   "cell_type": "code",
   "execution_count": 14,
   "id": "87a96adc",
   "metadata": {},
   "outputs": [
    {
     "name": "stdout",
     "output_type": "stream",
     "text": [
      "root\n",
      " |-- movieId: long (nullable = true)\n",
      " |-- title: string (nullable = true)\n",
      " |-- genres: string (nullable = true)\n",
      " |-- userId: double (nullable = true)\n",
      " |-- rating: double (nullable = true)\n",
      " |-- timestamp: string (nullable = true)\n",
      " |-- __index_level_0__: long (nullable = true)\n",
      "\n"
     ]
    }
   ],
   "source": [
    "df.printSchema()"
   ]
  },
  {
   "cell_type": "code",
   "execution_count": 15,
   "id": "019154ec",
   "metadata": {},
   "outputs": [],
   "source": [
    "df = df.drop(\"__index_level_0__\")"
   ]
  },
  {
   "cell_type": "code",
   "execution_count": 20,
   "id": "abd22995",
   "metadata": {},
   "outputs": [],
   "source": [
    "df = df.withColumn(\"timestamp\", F.to_timestamp(F.col(\"timestamp\")))"
   ]
  },
  {
   "cell_type": "code",
   "execution_count": 25,
   "id": "4ece66eb",
   "metadata": {},
   "outputs": [
    {
     "name": "stdout",
     "output_type": "stream",
     "text": [
      "+--------------------+-----+\n",
      "|               title|count|\n",
      "+--------------------+-----+\n",
      "|    Fair Game (1995)| 1295|\n",
      "| If Lucy Fell (1996)| 1136|\n",
      "| Three Wishes (1995)|  365|\n",
      "|Heavenly Creature...| 7681|\n",
      "|Paris, France (1993)|   47|\n",
      "+--------------------+-----+\n",
      "only showing top 5 rows\n",
      "\n"
     ]
    }
   ],
   "source": [
    "df.groupby(\"title\").count().show(5)"
   ]
  },
  {
   "cell_type": "code",
   "execution_count": 39,
   "id": "8d98732d",
   "metadata": {},
   "outputs": [],
   "source": [
    "df.createOrReplaceTempView(\"Movies\")"
   ]
  },
  {
   "cell_type": "code",
   "execution_count": 71,
   "id": "5607cec7",
   "metadata": {},
   "outputs": [],
   "source": [
    "rare_movies = spark.sql(\"\"\"\n",
    "          SELECT title as rare FROM Movies\n",
    "          GROUP BY title\n",
    "          HAVING COUNT(title) >= 1000\n",
    "\"\"\")"
   ]
  },
  {
   "cell_type": "code",
   "execution_count": 72,
   "id": "bde6e00a",
   "metadata": {},
   "outputs": [
    {
     "name": "stdout",
     "output_type": "stream",
     "text": [
      "+--------------------+\n",
      "|                rare|\n",
      "+--------------------+\n",
      "|    Fair Game (1995)|\n",
      "| If Lucy Fell (1996)|\n",
      "|Heavenly Creature...|\n",
      "|Snow White and th...|\n",
      "|Night of the Livi...|\n",
      "+--------------------+\n",
      "only showing top 5 rows\n",
      "\n"
     ]
    }
   ],
   "source": [
    "rare_movies.show(5)"
   ]
  },
  {
   "cell_type": "code",
   "execution_count": 73,
   "id": "188148fc",
   "metadata": {},
   "outputs": [],
   "source": [
    "rare_movies.createOrReplaceTempView(\"Rare_Movies\")"
   ]
  },
  {
   "cell_type": "code",
   "execution_count": 74,
   "id": "d64652c8",
   "metadata": {},
   "outputs": [],
   "source": [
    "common_movies = spark.sql(\"\"\"\n",
    "    SELECT * FROM Movies\n",
    "    INNER JOIN Rare_Movies ON\n",
    "    Movies.title = Rare_Movies.rare\n",
    "    ORDER BY RAND()\n",
    "\"\"\")"
   ]
  },
  {
   "cell_type": "code",
   "execution_count": 75,
   "id": "c219f234",
   "metadata": {},
   "outputs": [
    {
     "name": "stdout",
     "output_type": "stream",
     "text": [
      "+-------+--------------------+--------------------+--------+------+-------------------+--------------------+\n",
      "|movieId|               title|              genres|  userId|rating|          timestamp|                rare|\n",
      "+-------+--------------------+--------------------+--------+------+-------------------+--------------------+\n",
      "|   3252|Scent of a Woman ...|               Drama| 24884.0|   4.0|2009-12-27 20:01:59|Scent of a Woman ...|\n",
      "|   2324|Life Is Beautiful...|Comedy|Drama|Roma...| 42789.0|   4.0|2000-11-20 08:18:32|Life Is Beautiful...|\n",
      "|  82459|    True Grit (2010)|             Western| 22695.0|   5.0|2012-01-14 07:18:15|    True Grit (2010)|\n",
      "|   3033|   Spaceballs (1987)|       Comedy|Sci-Fi|131275.0|   3.5|2009-05-20 07:20:20|   Spaceballs (1987)|\n",
      "|   1690|Alien: Resurrecti...|Action|Horror|Sci-Fi| 63080.0|   1.5|2007-12-13 02:40:00|Alien: Resurrecti...|\n",
      "+-------+--------------------+--------------------+--------+------+-------------------+--------------------+\n",
      "only showing top 5 rows\n",
      "\n"
     ]
    }
   ],
   "source": [
    "common_movies.show(5)"
   ]
  },
  {
   "cell_type": "code",
   "execution_count": 77,
   "id": "beda00ad",
   "metadata": {},
   "outputs": [],
   "source": [
    "common_movies = common_movies.drop(\"rare\")"
   ]
  },
  {
   "cell_type": "code",
   "execution_count": 80,
   "id": "8b6eb9ce",
   "metadata": {},
   "outputs": [
    {
     "ename": "AttributeError",
     "evalue": "'GroupedData' object has no attribute 'limit'",
     "output_type": "error",
     "traceback": [
      "Traceback \u001b[1;36m(most recent call last)\u001b[0m:\n",
      "\u001b[1;36m  File \u001b[1;32m\"C:\\Users\\talha\\AppData\\Local\\Temp\\ipykernel_11484\\205957021.py\"\u001b[1;36m, line \u001b[1;32m1\u001b[1;36m, in \u001b[1;35m<module>\u001b[1;36m\u001b[0m\n\u001b[1;33m    common_movies.select(\"userId\", \"title\", \"rating\").groupby(\"userId\").pivot(\"title\").limit(5).toPandas()\u001b[0m\n",
      "\u001b[1;31mAttributeError\u001b[0m\u001b[1;31m:\u001b[0m 'GroupedData' object has no attribute 'limit'\n"
     ]
    }
   ],
   "source": [
    "common_movies.select(\"userId\", \"title\", \"rating\").groupby(\"userId\").pivot(\"title\").limit(5).toPandas()"
   ]
  },
  {
   "cell_type": "code",
   "execution_count": null,
   "id": "12a8a3ba",
   "metadata": {},
   "outputs": [],
   "source": []
  }
 ],
 "metadata": {
  "kernelspec": {
   "display_name": "Python 3 (Spyder)",
   "language": "python3",
   "name": "python3"
  },
  "language_info": {
   "codemirror_mode": {
    "name": "ipython",
    "version": 3
   },
   "file_extension": ".py",
   "mimetype": "text/x-python",
   "name": "python",
   "nbconvert_exporter": "python",
   "pygments_lexer": "ipython3",
   "version": "3.9.13"
  }
 },
 "nbformat": 4,
 "nbformat_minor": 5
}
